{
 "cells": [
  {
   "cell_type": "code",
   "execution_count": 5,
   "id": "3f902964",
   "metadata": {},
   "outputs": [],
   "source": [
    "import numpy as np\n",
    "import pandas as pd\n",
    "import matplotlib.pyplot as plt\n",
    "import seaborn as sns\n",
    "import yfinance as yf\n",
    "%matplotlib inline"
   ]
  },
  {
   "cell_type": "code",
   "execution_count": 6,
   "id": "a84196c9",
   "metadata": {},
   "outputs": [],
   "source": [
    "# pip install yfinance"
   ]
  },
  {
   "cell_type": "code",
   "execution_count": 9,
   "id": "303ac2c2",
   "metadata": {},
   "outputs": [
    {
     "name": "stdout",
     "output_type": "stream",
     "text": [
      "Enter the co-e of the stock:- NG=F\n",
      "[*********************100%***********************]  1 of 1 completed\n"
     ]
    },
    {
     "data": {
      "text/html": [
       "<div>\n",
       "<style scoped>\n",
       "    .dataframe tbody tr th:only-of-type {\n",
       "        vertical-align: middle;\n",
       "    }\n",
       "\n",
       "    .dataframe tbody tr th {\n",
       "        vertical-align: top;\n",
       "    }\n",
       "\n",
       "    .dataframe thead th {\n",
       "        text-align: right;\n",
       "    }\n",
       "</style>\n",
       "<table border=\"1\" class=\"dataframe\">\n",
       "  <thead>\n",
       "    <tr style=\"text-align: right;\">\n",
       "      <th></th>\n",
       "      <th>Open</th>\n",
       "      <th>High</th>\n",
       "      <th>Low</th>\n",
       "      <th>Close</th>\n",
       "      <th>Volume</th>\n",
       "    </tr>\n",
       "    <tr>\n",
       "      <th>Date</th>\n",
       "      <th></th>\n",
       "      <th></th>\n",
       "      <th></th>\n",
       "      <th></th>\n",
       "      <th></th>\n",
       "    </tr>\n",
       "  </thead>\n",
       "  <tbody>\n",
       "    <tr>\n",
       "      <th>2008-01-02</th>\n",
       "      <td>7.572</td>\n",
       "      <td>7.876</td>\n",
       "      <td>7.564</td>\n",
       "      <td>7.850</td>\n",
       "      <td>68553</td>\n",
       "    </tr>\n",
       "    <tr>\n",
       "      <th>2008-01-03</th>\n",
       "      <td>7.873</td>\n",
       "      <td>7.980</td>\n",
       "      <td>7.610</td>\n",
       "      <td>7.674</td>\n",
       "      <td>72742</td>\n",
       "    </tr>\n",
       "    <tr>\n",
       "      <th>2008-01-04</th>\n",
       "      <td>7.652</td>\n",
       "      <td>7.859</td>\n",
       "      <td>7.500</td>\n",
       "      <td>7.841</td>\n",
       "      <td>61496</td>\n",
       "    </tr>\n",
       "    <tr>\n",
       "      <th>2008-01-07</th>\n",
       "      <td>7.803</td>\n",
       "      <td>7.940</td>\n",
       "      <td>7.701</td>\n",
       "      <td>7.879</td>\n",
       "      <td>56675</td>\n",
       "    </tr>\n",
       "    <tr>\n",
       "      <th>2008-01-08</th>\n",
       "      <td>7.909</td>\n",
       "      <td>7.997</td>\n",
       "      <td>7.880</td>\n",
       "      <td>7.967</td>\n",
       "      <td>53775</td>\n",
       "    </tr>\n",
       "  </tbody>\n",
       "</table>\n",
       "</div>"
      ],
      "text/plain": [
       "             Open   High    Low  Close  Volume\n",
       "Date                                          \n",
       "2008-01-02  7.572  7.876  7.564  7.850   68553\n",
       "2008-01-03  7.873  7.980  7.610  7.674   72742\n",
       "2008-01-04  7.652  7.859  7.500  7.841   61496\n",
       "2008-01-07  7.803  7.940  7.701  7.879   56675\n",
       "2008-01-08  7.909  7.997  7.880  7.967   53775"
      ]
     },
     "execution_count": 9,
     "metadata": {},
     "output_type": "execute_result"
    }
   ],
   "source": [
    "stocks=input(\"Enter the co-e of the stock:- \")\n",
    "data=yf.download(stocks, \"2008-01-01\",\"2021-01-18\", auto_adjust=True)\n",
    "data.head()"
   ]
  },
  {
   "cell_type": "code",
   "execution_count": 10,
   "id": "842aadac",
   "metadata": {},
   "outputs": [
    {
     "data": {
      "text/plain": [
       "(3282, 5)"
      ]
     },
     "execution_count": 10,
     "metadata": {},
     "output_type": "execute_result"
    }
   ],
   "source": [
    "data.shape"
   ]
  },
  {
   "cell_type": "code",
   "execution_count": 11,
   "id": "527834c4",
   "metadata": {},
   "outputs": [
    {
     "name": "stdout",
     "output_type": "stream",
     "text": [
      "<class 'pandas.core.frame.DataFrame'>\n",
      "DatetimeIndex: 3282 entries, 2008-01-02 to 2021-01-15\n",
      "Data columns (total 5 columns):\n",
      " #   Column  Non-Null Count  Dtype  \n",
      "---  ------  --------------  -----  \n",
      " 0   Open    3282 non-null   float64\n",
      " 1   High    3282 non-null   float64\n",
      " 2   Low     3282 non-null   float64\n",
      " 3   Close   3282 non-null   float64\n",
      " 4   Volume  3282 non-null   int64  \n",
      "dtypes: float64(4), int64(1)\n",
      "memory usage: 153.8 KB\n"
     ]
    }
   ],
   "source": [
    "data.info()"
   ]
  },
  {
   "cell_type": "code",
   "execution_count": 12,
   "id": "30fe8343",
   "metadata": {},
   "outputs": [
    {
     "data": {
      "text/html": [
       "<div>\n",
       "<style scoped>\n",
       "    .dataframe tbody tr th:only-of-type {\n",
       "        vertical-align: middle;\n",
       "    }\n",
       "\n",
       "    .dataframe tbody tr th {\n",
       "        vertical-align: top;\n",
       "    }\n",
       "\n",
       "    .dataframe thead th {\n",
       "        text-align: right;\n",
       "    }\n",
       "</style>\n",
       "<table border=\"1\" class=\"dataframe\">\n",
       "  <thead>\n",
       "    <tr style=\"text-align: right;\">\n",
       "      <th></th>\n",
       "      <th>Open</th>\n",
       "      <th>High</th>\n",
       "      <th>Low</th>\n",
       "      <th>Close</th>\n",
       "      <th>Volume</th>\n",
       "    </tr>\n",
       "  </thead>\n",
       "  <tbody>\n",
       "    <tr>\n",
       "      <th>count</th>\n",
       "      <td>3282.000000</td>\n",
       "      <td>3282.000000</td>\n",
       "      <td>3282.000000</td>\n",
       "      <td>3282.000000</td>\n",
       "      <td>3282.000000</td>\n",
       "    </tr>\n",
       "    <tr>\n",
       "      <th>mean</th>\n",
       "      <td>3.713705</td>\n",
       "      <td>3.787288</td>\n",
       "      <td>3.635038</td>\n",
       "      <td>3.707074</td>\n",
       "      <td>131397.603595</td>\n",
       "    </tr>\n",
       "    <tr>\n",
       "      <th>std</th>\n",
       "      <td>1.830425</td>\n",
       "      <td>1.865744</td>\n",
       "      <td>1.789584</td>\n",
       "      <td>1.825297</td>\n",
       "      <td>54393.040171</td>\n",
       "    </tr>\n",
       "    <tr>\n",
       "      <th>min</th>\n",
       "      <td>1.441000</td>\n",
       "      <td>1.567000</td>\n",
       "      <td>1.432000</td>\n",
       "      <td>1.482000</td>\n",
       "      <td>0.000000</td>\n",
       "    </tr>\n",
       "    <tr>\n",
       "      <th>25%</th>\n",
       "      <td>2.691250</td>\n",
       "      <td>2.736500</td>\n",
       "      <td>2.644000</td>\n",
       "      <td>2.693000</td>\n",
       "      <td>91744.250000</td>\n",
       "    </tr>\n",
       "    <tr>\n",
       "      <th>50%</th>\n",
       "      <td>3.253000</td>\n",
       "      <td>3.312000</td>\n",
       "      <td>3.183500</td>\n",
       "      <td>3.240500</td>\n",
       "      <td>126669.500000</td>\n",
       "    </tr>\n",
       "    <tr>\n",
       "      <th>75%</th>\n",
       "      <td>4.157750</td>\n",
       "      <td>4.244750</td>\n",
       "      <td>4.066750</td>\n",
       "      <td>4.152000</td>\n",
       "      <td>161490.500000</td>\n",
       "    </tr>\n",
       "    <tr>\n",
       "      <th>max</th>\n",
       "      <td>13.580000</td>\n",
       "      <td>13.694000</td>\n",
       "      <td>13.306000</td>\n",
       "      <td>13.577000</td>\n",
       "      <td>459196.000000</td>\n",
       "    </tr>\n",
       "  </tbody>\n",
       "</table>\n",
       "</div>"
      ],
      "text/plain": [
       "              Open         High          Low        Close         Volume\n",
       "count  3282.000000  3282.000000  3282.000000  3282.000000    3282.000000\n",
       "mean      3.713705     3.787288     3.635038     3.707074  131397.603595\n",
       "std       1.830425     1.865744     1.789584     1.825297   54393.040171\n",
       "min       1.441000     1.567000     1.432000     1.482000       0.000000\n",
       "25%       2.691250     2.736500     2.644000     2.693000   91744.250000\n",
       "50%       3.253000     3.312000     3.183500     3.240500  126669.500000\n",
       "75%       4.157750     4.244750     4.066750     4.152000  161490.500000\n",
       "max      13.580000    13.694000    13.306000    13.577000  459196.000000"
      ]
     },
     "execution_count": 12,
     "metadata": {},
     "output_type": "execute_result"
    }
   ],
   "source": [
    "data.describe()"
   ]
  },
  {
   "cell_type": "code",
   "execution_count": 13,
   "id": "515d8fa0",
   "metadata": {},
   "outputs": [
    {
     "data": {
      "image/png": "[encoded data removed]",
      "text/plain": [
       "<Figure size 720x504 with 1 Axes>"
      ]
     },
     "metadata": {
      "needs_background": "light"
     },
     "output_type": "display_data"
    }
   ],
   "source": [
    "data.Close.plot(figsize=(10,7),color='r')\n",
    "plt.ylabel(\"{} Prices\".format(stocks))\n",
    "plt.title(\"{} Price Series\".format(stocks))\n",
    "plt.show()"
   ]
  },
  {
   "cell_type": "code",
   "execution_count": 14,
   "id": "4eedbdc7",
   "metadata": {},
   "outputs": [
    {
     "name": "stderr",
     "output_type": "stream",
     "text": [
      "C:\\ProgramData\\Anaconda3\\lib\\site-packages\\seaborn\\distributions.py:2619: FutureWarning: `distplot` is a deprecated function and will be removed in a future version. Please adapt your code to use either `displot` (a figure-level function with similar flexibility) or `histplot` (an axes-level function for histograms).\n",
      "  warnings.warn(msg, FutureWarning)\n"
     ]
    },
    {
     "data": {
      "text/plain": [
       "<AxesSubplot:xlabel='Close', ylabel='Density'>"
      ]
     },
     "execution_count": 14,
     "metadata": {},
     "output_type": "execute_result"
    },
    {
     "data": {
      "image/png": "[encoded data removed]",
      "text/plain": [
       "<Figure size 432x288 with 1 Axes>"
      ]
     },
     "metadata": {
      "needs_background": "light"
     },
     "output_type": "display_data"
    }
   ],
   "source": [
    "sns.distplot(data['Close'])"
   ]
  },
  {
   "cell_type": "code",
   "execution_count": 15,
   "id": "b10ee2d8",
   "metadata": {},
   "outputs": [
    {
     "name": "stderr",
     "output_type": "stream",
     "text": [
      "C:\\ProgramData\\Anaconda3\\lib\\site-packages\\seaborn\\distributions.py:2619: FutureWarning: `distplot` is a deprecated function and will be removed in a future version. Please adapt your code to use either `displot` (a figure-level function with similar flexibility) or `histplot` (an axes-level function for histograms).\n",
      "  warnings.warn(msg, FutureWarning)\n"
     ]
    },
    {
     "data": {
      "text/plain": [
       "<AxesSubplot:xlabel='Open', ylabel='Density'>"
      ]
     },
     "execution_count": 15,
     "metadata": {},
     "output_type": "execute_result"
    },
    {
     "data": {
      "image/png": "[encoded data removed]",
      "text/plain": [
       "<Figure size 432x288 with 1 Axes>"
      ]
     },
     "metadata": {
      "needs_background": "light"
     },
     "output_type": "display_data"
    }
   ],
   "source": [
    "sns.distplot(data['Open'])"
   ]
  },
  {
   "cell_type": "code",
   "execution_count": 16,
   "id": "24fd4a70",
   "metadata": {},
   "outputs": [
    {
     "name": "stderr",
     "output_type": "stream",
     "text": [
      "C:\\ProgramData\\Anaconda3\\lib\\site-packages\\seaborn\\distributions.py:2619: FutureWarning: `distplot` is a deprecated function and will be removed in a future version. Please adapt your code to use either `displot` (a figure-level function with similar flexibility) or `histplot` (an axes-level function for histograms).\n",
      "  warnings.warn(msg, FutureWarning)\n"
     ]
    },
    {
     "data": {
      "text/plain": [
       "<AxesSubplot:xlabel='High', ylabel='Density'>"
      ]
     },
     "execution_count": 16,
     "metadata": {},
     "output_type": "execute_result"
    },
    {
     "data": {
      "image/png": "[encoded data removed]",
      "text/plain": [
       "<Figure size 432x288 with 1 Axes>"
      ]
     },
     "metadata": {
      "needs_background": "light"
     },
     "output_type": "display_data"
    }
   ],
   "source": [
    "sns.distplot(data['High'])"
   ]
  },
  {
   "cell_type": "code",
   "execution_count": 18,
   "id": "de414c68",
   "metadata": {},
   "outputs": [],
   "source": [
    "#Conclusion\n",
    "# --shape of the data\n",
    "# --how our data is distributed\n",
    "# -- it is very very non normal\n",
    "#Linear,Logistic,Regularized,SVM"
   ]
  },
  {
   "cell_type": "code",
   "execution_count": 20,
   "id": "652315f7",
   "metadata": {},
   "outputs": [],
   "source": [
    "X=data.drop('Close',axis=1)\n",
    "y=data['Close']"
   ]
  },
  {
   "cell_type": "code",
   "execution_count": 21,
   "id": "6657b4a9",
   "metadata": {},
   "outputs": [],
   "source": [
    "from sklearn.model_selection import train_test_split"
   ]
  },
  {
   "cell_type": "code",
   "execution_count": 22,
   "id": "c08ce696",
   "metadata": {},
   "outputs": [],
   "source": [
    "X_train,X_test,y_train,y_test=train_test_split(X,y,test_size=0.2,random_state=0)"
   ]
  },
  {
   "cell_type": "code",
   "execution_count": 23,
   "id": "96b75d31",
   "metadata": {},
   "outputs": [
    {
     "name": "stdout",
     "output_type": "stream",
     "text": [
      "(2625, 4)\n",
      "(657, 4)\n",
      "(2625,)\n",
      "(657,)\n"
     ]
    }
   ],
   "source": [
    "print(X_train.shape)\n",
    "print(X_test.shape)\n",
    "print(y_train.shape)\n",
    "print(y_test.shape)"
   ]
  },
  {
   "cell_type": "code",
   "execution_count": 24,
   "id": "af5c7392",
   "metadata": {},
   "outputs": [
    {
     "data": {
      "text/html": [
       "<style>#sk-container-id-1 {color: black;background-color: white;}#sk-container-id-1 pre{padding: 0;}#sk-container-id-1 div.sk-toggleable {background-color: white;}#sk-container-id-1 label.sk-toggleable__label {cursor: pointer;display: block;width: 100%;margin-bottom: 0;padding: 0.3em;box-sizing: border-box;text-align: center;}#sk-container-id-1 label.sk-toggleable__label-arrow:before {content: \"▸\";float: left;margin-right: 0.25em;color: #696969;}#sk-container-id-1 label.sk-toggleable__label-arrow:hover:before {color: black;}#sk-container-id-1 div.sk-estimator:hover label.sk-toggleable__label-arrow:before {color: black;}#sk-container-id-1 div.sk-toggleable__content {max-height: 0;max-width: 0;overflow: hidden;text-align: left;background-color: #f0f8ff;}#sk-container-id-1 div.sk-toggleable__content pre {margin: 0.2em;color: black;border-radius: 0.25em;background-color: #f0f8ff;}#sk-container-id-1 input.sk-toggleable__control:checked~div.sk-toggleable__content {max-height: 200px;max-width: 100%;overflow: auto;}#sk-container-id-1 input.sk-toggleable__control:checked~label.sk-toggleable__label-arrow:before {content: \"▾\";}#sk-container-id-1 div.sk-estimator input.sk-toggleable__control:checked~label.sk-toggleable__label {background-color: #d4ebff;}#sk-container-id-1 div.sk-label input.sk-toggleable__control:checked~label.sk-toggleable__label {background-color: #d4ebff;}#sk-container-id-1 input.sk-hidden--visually {border: 0;clip: rect(1px 1px 1px 1px);clip: rect(1px, 1px, 1px, 1px);height: 1px;margin: -1px;overflow: hidden;padding: 0;position: absolute;width: 1px;}#sk-container-id-1 div.sk-estimator {font-family: monospace;background-color: #f0f8ff;border: 1px dotted black;border-radius: 0.25em;box-sizing: border-box;margin-bottom: 0.5em;}#sk-container-id-1 div.sk-estimator:hover {background-color: #d4ebff;}#sk-container-id-1 div.sk-parallel-item::after {content: \"\";width: 100%;border-bottom: 1px solid gray;flex-grow: 1;}#sk-container-id-1 div.sk-label:hover label.sk-toggleable__label {background-color: #d4ebff;}#sk-container-id-1 div.sk-serial::before {content: \"\";position: absolute;border-left: 1px solid gray;box-sizing: border-box;top: 0;bottom: 0;left: 50%;z-index: 0;}#sk-container-id-1 div.sk-serial {display: flex;flex-direction: column;align-items: center;background-color: white;padding-right: 0.2em;padding-left: 0.2em;position: relative;}#sk-container-id-1 div.sk-item {position: relative;z-index: 1;}#sk-container-id-1 div.sk-parallel {display: flex;align-items: stretch;justify-content: center;background-color: white;position: relative;}#sk-container-id-1 div.sk-item::before, #sk-container-id-1 div.sk-parallel-item::before {content: \"\";position: absolute;border-left: 1px solid gray;box-sizing: border-box;top: 0;bottom: 0;left: 50%;z-index: -1;}#sk-container-id-1 div.sk-parallel-item {display: flex;flex-direction: column;z-index: 1;position: relative;background-color: white;}#sk-container-id-1 div.sk-parallel-item:first-child::after {align-self: flex-end;width: 50%;}#sk-container-id-1 div.sk-parallel-item:last-child::after {align-self: flex-start;width: 50%;}#sk-container-id-1 div.sk-parallel-item:only-child::after {width: 0;}#sk-container-id-1 div.sk-dashed-wrapped {border: 1px dashed gray;margin: 0 0.4em 0.5em 0.4em;box-sizing: border-box;padding-bottom: 0.4em;background-color: white;}#sk-container-id-1 div.sk-label label {font-family: monospace;font-weight: bold;display: inline-block;line-height: 1.2em;}#sk-container-id-1 div.sk-label-container {text-align: center;}#sk-container-id-1 div.sk-container {/* jupyter's `normalize.less` sets `[hidden] { display: none; }` but bootstrap.min.css set `[hidden] { display: none !important; }` so we also need the `!important` here to be able to override the default hidden behavior on the sphinx rendered scikit-learn.org. See: https://github.com/scikit-learn/scikit-learn/issues/21755 */display: inline-block !important;position: relative;}#sk-container-id-1 div.sk-text-repr-fallback {display: none;}</style><div id=\"sk-container-id-1\" class=\"sk-top-container\"><div class=\"sk-text-repr-fallback\"><pre>LinearRegression()</pre><b>In a Jupyter environment, please rerun this cell to show the HTML representation or trust the notebook. <br />On GitHub, the HTML representation is unable to render, please try loading this page with nbviewer.org.</b></div><div class=\"sk-container\" hidden><div class=\"sk-item\"><div class=\"sk-estimator sk-toggleable\"><input class=\"sk-toggleable__control sk-hidden--visually\" id=\"sk-estimator-id-1\" type=\"checkbox\" checked><label for=\"sk-estimator-id-1\" class=\"sk-toggleable__label sk-toggleable__label-arrow\">LinearRegression</label><div class=\"sk-toggleable__content\"><pre>LinearRegression()</pre></div></div></div></div></div>"
      ],
      "text/plain": [
       "LinearRegression()"
      ]
     },
     "execution_count": 24,
     "metadata": {},
     "output_type": "execute_result"
    }
   ],
   "source": [
    "from sklearn.linear_model import LinearRegression\n",
    "\n",
    "lr=LinearRegression()\n",
    "lr.fit(X_train,y_train)"
   ]
  },
  {
   "cell_type": "code",
   "execution_count": 25,
   "id": "b5287f60",
   "metadata": {},
   "outputs": [],
   "source": [
    "pred1=lr.predict(X_test)"
   ]
  },
  {
   "cell_type": "code",
   "execution_count": 27,
   "id": "c9a251c5",
   "metadata": {},
   "outputs": [],
   "source": [
    "# pred1"
   ]
  },
  {
   "cell_type": "code",
   "execution_count": 28,
   "id": "027991d0",
   "metadata": {},
   "outputs": [],
   "source": [
    "# MSE-->Mean Squared Error\n",
    "# RMSE-->Root Mean Squared Error\n",
    "# r2_score-->1.0 #good model\n"
   ]
  },
  {
   "cell_type": "code",
   "execution_count": 31,
   "id": "2851479e",
   "metadata": {},
   "outputs": [
    {
     "name": "stdout",
     "output_type": "stream",
     "text": [
      "MSE:-  0.0015345662928848828\n",
      "RMSE:-  0.039173540724382866\n",
      "R2_Score:-  0.9994383299702715\n"
     ]
    }
   ],
   "source": [
    "from sklearn.metrics import mean_squared_error,r2_score\n",
    "\n",
    "def calculate_metrics(y_test,y_pred):\n",
    "    mse=mean_squared_error(y_test,y_pred)\n",
    "    '''\n",
    "    y_test:-ground truth\n",
    "    y_pred:-model predicted\n",
    "    '''\n",
    "    rmse=np.sqrt(mse)\n",
    "    r2_scors=r2_score(y_test,y_pred)\n",
    "    \n",
    "    print(\"MSE:- \",mse)\n",
    "    print(\"RMSE:- \",rmse)\n",
    "    print(\"R2_Score:- \",r2_scors)\n",
    "    \n",
    "calculate_metrics(y_test,pred1)"
   ]
  },
  {
   "cell_type": "code",
   "execution_count": 33,
   "id": "43d7be05",
   "metadata": {},
   "outputs": [],
   "source": [
    "from sklearn.linear_model import Lasso,Ridge\n",
    "\n",
    "la=Lasso().fit(X_train,y_train)\n",
    "ri=Ridge().fit(X_train,y_train)\n",
    "\n",
    "la_p=la.predict(X_test)\n",
    "ri_p=ri.predict(X_test)"
   ]
  },
  {
   "cell_type": "code",
   "execution_count": 34,
   "id": "b0e8aca5",
   "metadata": {},
   "outputs": [
    {
     "name": "stdout",
     "output_type": "stream",
     "text": [
      "MSE:-  0.2369233626053289\n",
      "RMSE:-  0.4867477402159448\n",
      "R2_Score:-  0.9132831519010186\n"
     ]
    }
   ],
   "source": [
    "calculate_metrics(y_test,la_p)"
   ]
  },
  {
   "cell_type": "code",
   "execution_count": 35,
   "id": "994880d0",
   "metadata": {},
   "outputs": [
    {
     "name": "stdout",
     "output_type": "stream",
     "text": [
      "MSE:-  0.0016151026199613728\n",
      "RMSE:-  0.040188339353118\n",
      "R2_Score:-  0.9994088526896658\n"
     ]
    }
   ],
   "source": [
    "calculate_metrics(y_test,ri_p)"
   ]
  },
  {
   "cell_type": "code",
   "execution_count": null,
   "id": "4f018e01",
   "metadata": {},
   "outputs": [],
   "source": [
    "#ridge regression will be saved to prone overfitting"
   ]
  },
  {
   "cell_type": "code",
   "execution_count": 36,
   "id": "83236d91",
   "metadata": {},
   "outputs": [
    {
     "name": "stdout",
     "output_type": "stream",
     "text": [
      "Fitting 5 folds for each of 30 candidates, totalling 150 fits\n",
      "[CV 1/5] END ............C=0, gamma=1, kernel=rbf;, score=nan total time=   0.0s\n",
      "[CV 2/5] END ............C=0, gamma=1, kernel=rbf;, score=nan total time=   0.0s\n",
      "[CV 3/5] END ............C=0, gamma=1, kernel=rbf;, score=nan total time=   0.0s\n",
      "[CV 4/5] END ............C=0, gamma=1, kernel=rbf;, score=nan total time=   0.0s\n",
      "[CV 5/5] END ............C=0, gamma=1, kernel=rbf;, score=nan total time=   0.0s\n",
      "[CV 1/5] END ..........C=0, gamma=0.1, kernel=rbf;, score=nan total time=   0.0s\n",
      "[CV 2/5] END ..........C=0, gamma=0.1, kernel=rbf;, score=nan total time=   0.0s\n",
      "[CV 3/5] END ..........C=0, gamma=0.1, kernel=rbf;, score=nan total time=   0.0s\n",
      "[CV 4/5] END ..........C=0, gamma=0.1, kernel=rbf;, score=nan total time=   0.0s\n",
      "[CV 5/5] END ..........C=0, gamma=0.1, kernel=rbf;, score=nan total time=   0.0s\n",
      "[CV 1/5] END .........C=0, gamma=0.01, kernel=rbf;, score=nan total time=   0.0s\n",
      "[CV 2/5] END .........C=0, gamma=0.01, kernel=rbf;, score=nan total time=   0.0s\n",
      "[CV 3/5] END .........C=0, gamma=0.01, kernel=rbf;, score=nan total time=   0.0s\n",
      "[CV 4/5] END .........C=0, gamma=0.01, kernel=rbf;, score=nan total time=   0.0s\n",
      "[CV 5/5] END .........C=0, gamma=0.01, kernel=rbf;, score=nan total time=   0.0s\n",
      "[CV 1/5] END ........C=0, gamma=0.001, kernel=rbf;, score=nan total time=   0.0s\n",
      "[CV 2/5] END ........C=0, gamma=0.001, kernel=rbf;, score=nan total time=   0.0s\n",
      "[CV 3/5] END ........C=0, gamma=0.001, kernel=rbf;, score=nan total time=   0.0s\n",
      "[CV 4/5] END ........C=0, gamma=0.001, kernel=rbf;, score=nan total time=   0.0s\n",
      "[CV 5/5] END ........C=0, gamma=0.001, kernel=rbf;, score=nan total time=   0.0s\n",
      "[CV 1/5] END ..........C=0, gamma=0.0, kernel=rbf;, score=nan total time=   0.0s\n",
      "[CV 2/5] END ..........C=0, gamma=0.0, kernel=rbf;, score=nan total time=   0.0s\n",
      "[CV 3/5] END ..........C=0, gamma=0.0, kernel=rbf;, score=nan total time=   0.0s\n",
      "[CV 4/5] END ..........C=0, gamma=0.0, kernel=rbf;, score=nan total time=   0.0s\n",
      "[CV 5/5] END ..........C=0, gamma=0.0, kernel=rbf;, score=nan total time=   0.0s\n",
      "[CV 1/5] END .........C=1, gamma=1, kernel=rbf;, score=-0.038 total time=   1.1s\n",
      "[CV 2/5] END .........C=1, gamma=1, kernel=rbf;, score=-0.037 total time=   1.1s\n",
      "[CV 3/5] END .........C=1, gamma=1, kernel=rbf;, score=-0.040 total time=   1.1s\n",
      "[CV 4/5] END .........C=1, gamma=1, kernel=rbf;, score=-0.041 total time=   1.0s\n",
      "[CV 5/5] END .........C=1, gamma=1, kernel=rbf;, score=-0.020 total time=   1.0s\n",
      "[CV 1/5] END .......C=1, gamma=0.1, kernel=rbf;, score=-0.037 total time=   1.1s\n",
      "[CV 2/5] END .......C=1, gamma=0.1, kernel=rbf;, score=-0.036 total time=   1.1s\n",
      "[CV 3/5] END .......C=1, gamma=0.1, kernel=rbf;, score=-0.039 total time=   1.1s\n",
      "[CV 4/5] END .......C=1, gamma=0.1, kernel=rbf;, score=-0.039 total time=   1.1s\n",
      "[CV 5/5] END .......C=1, gamma=0.1, kernel=rbf;, score=-0.022 total time=   1.1s\n",
      "[CV 1/5] END ......C=1, gamma=0.01, kernel=rbf;, score=-0.039 total time=   1.1s\n",
      "[CV 2/5] END ......C=1, gamma=0.01, kernel=rbf;, score=-0.046 total time=   1.1s\n",
      "[CV 3/5] END ......C=1, gamma=0.01, kernel=rbf;, score=-0.042 total time=   1.1s\n",
      "[CV 4/5] END ......C=1, gamma=0.01, kernel=rbf;, score=-0.020 total time=   1.1s\n",
      "[CV 5/5] END ......C=1, gamma=0.01, kernel=rbf;, score=-0.023 total time=   1.1s\n",
      "[CV 1/5] END .....C=1, gamma=0.001, kernel=rbf;, score=-0.030 total time=   1.1s\n",
      "[CV 2/5] END .....C=1, gamma=0.001, kernel=rbf;, score=-0.054 total time=   1.1s\n",
      "[CV 3/5] END .....C=1, gamma=0.001, kernel=rbf;, score=-0.045 total time=   1.0s\n",
      "[CV 4/5] END .....C=1, gamma=0.001, kernel=rbf;, score=-0.006 total time=   1.2s\n",
      "[CV 5/5] END .....C=1, gamma=0.001, kernel=rbf;, score=-0.030 total time=   1.1s\n",
      "[CV 1/5] END ..........C=1, gamma=0.0, kernel=rbf;, score=nan total time=   0.0s\n",
      "[CV 2/5] END ..........C=1, gamma=0.0, kernel=rbf;, score=nan total time=   0.0s\n",
      "[CV 3/5] END ..........C=1, gamma=0.0, kernel=rbf;, score=nan total time=   0.0s\n",
      "[CV 4/5] END ..........C=1, gamma=0.0, kernel=rbf;, score=nan total time=   0.0s\n",
      "[CV 5/5] END ..........C=1, gamma=0.0, kernel=rbf;, score=nan total time=   0.0s\n",
      "[CV 1/5] END .........C=1, gamma=1, kernel=rbf;, score=-0.038 total time=   1.1s\n",
      "[CV 2/5] END .........C=1, gamma=1, kernel=rbf;, score=-0.037 total time=   1.1s\n",
      "[CV 3/5] END .........C=1, gamma=1, kernel=rbf;, score=-0.040 total time=   1.1s\n",
      "[CV 4/5] END .........C=1, gamma=1, kernel=rbf;, score=-0.041 total time=   1.1s\n",
      "[CV 5/5] END .........C=1, gamma=1, kernel=rbf;, score=-0.020 total time=   1.1s\n",
      "[CV 1/5] END .......C=1, gamma=0.1, kernel=rbf;, score=-0.037 total time=   1.1s\n",
      "[CV 2/5] END .......C=1, gamma=0.1, kernel=rbf;, score=-0.036 total time=   1.1s\n",
      "[CV 3/5] END .......C=1, gamma=0.1, kernel=rbf;, score=-0.039 total time=   1.3s\n",
      "[CV 4/5] END .......C=1, gamma=0.1, kernel=rbf;, score=-0.039 total time=   1.5s\n",
      "[CV 5/5] END .......C=1, gamma=0.1, kernel=rbf;, score=-0.022 total time=   1.3s\n",
      "[CV 1/5] END ......C=1, gamma=0.01, kernel=rbf;, score=-0.039 total time=   1.1s\n",
      "[CV 2/5] END ......C=1, gamma=0.01, kernel=rbf;, score=-0.046 total time=   1.1s\n",
      "[CV 3/5] END ......C=1, gamma=0.01, kernel=rbf;, score=-0.042 total time=   1.1s\n",
      "[CV 4/5] END ......C=1, gamma=0.01, kernel=rbf;, score=-0.020 total time=   1.1s\n",
      "[CV 5/5] END ......C=1, gamma=0.01, kernel=rbf;, score=-0.023 total time=   1.1s\n",
      "[CV 1/5] END .....C=1, gamma=0.001, kernel=rbf;, score=-0.030 total time=   1.1s\n",
      "[CV 2/5] END .....C=1, gamma=0.001, kernel=rbf;, score=-0.054 total time=   1.1s\n",
      "[CV 3/5] END .....C=1, gamma=0.001, kernel=rbf;, score=-0.045 total time=   1.1s\n",
      "[CV 4/5] END .....C=1, gamma=0.001, kernel=rbf;, score=-0.006 total time=   1.1s\n",
      "[CV 5/5] END .....C=1, gamma=0.001, kernel=rbf;, score=-0.030 total time=   1.1s\n",
      "[CV 1/5] END ..........C=1, gamma=0.0, kernel=rbf;, score=nan total time=   0.0s\n",
      "[CV 2/5] END ..........C=1, gamma=0.0, kernel=rbf;, score=nan total time=   0.0s\n",
      "[CV 3/5] END ..........C=1, gamma=0.0, kernel=rbf;, score=nan total time=   0.0s\n",
      "[CV 4/5] END ..........C=1, gamma=0.0, kernel=rbf;, score=nan total time=   0.0s\n",
      "[CV 5/5] END ..........C=1, gamma=0.0, kernel=rbf;, score=nan total time=   0.0s\n",
      "[CV 1/5] END .........C=10, gamma=1, kernel=rbf;, score=0.002 total time=   1.2s\n",
      "[CV 2/5] END .........C=10, gamma=1, kernel=rbf;, score=0.002 total time=   1.2s\n",
      "[CV 3/5] END .........C=10, gamma=1, kernel=rbf;, score=0.001 total time=   1.1s\n",
      "[CV 4/5] END .........C=10, gamma=1, kernel=rbf;, score=0.001 total time=   1.1s\n",
      "[CV 5/5] END ........C=10, gamma=1, kernel=rbf;, score=-0.006 total time=   1.2s\n",
      "[CV 1/5] END .......C=10, gamma=0.1, kernel=rbf;, score=0.002 total time=   1.2s\n",
      "[CV 2/5] END .......C=10, gamma=0.1, kernel=rbf;, score=0.005 total time=   1.2s\n",
      "[CV 3/5] END .......C=10, gamma=0.1, kernel=rbf;, score=0.004 total time=   1.2s\n",
      "[CV 4/5] END .......C=10, gamma=0.1, kernel=rbf;, score=0.003 total time=   1.2s\n",
      "[CV 5/5] END ......C=10, gamma=0.1, kernel=rbf;, score=-0.004 total time=   1.2s\n",
      "[CV 1/5] END ......C=10, gamma=0.01, kernel=rbf;, score=0.012 total time=   1.3s\n",
      "[CV 2/5] END .....C=10, gamma=0.01, kernel=rbf;, score=-0.002 total time=   1.2s\n",
      "[CV 3/5] END .....C=10, gamma=0.01, kernel=rbf;, score=-0.008 total time=   1.2s\n",
      "[CV 4/5] END ......C=10, gamma=0.01, kernel=rbf;, score=0.070 total time=   1.3s\n",
      "[CV 5/5] END ......C=10, gamma=0.01, kernel=rbf;, score=0.030 total time=   1.2s\n",
      "[CV 1/5] END ....C=10, gamma=0.001, kernel=rbf;, score=-0.083 total time=   1.1s\n",
      "[CV 2/5] END ....C=10, gamma=0.001, kernel=rbf;, score=-0.115 total time=   1.3s\n",
      "[CV 3/5] END ....C=10, gamma=0.001, kernel=rbf;, score=-0.272 total time=   1.3s\n",
      "[CV 4/5] END ....C=10, gamma=0.001, kernel=rbf;, score=-0.008 total time=   1.3s\n",
      "[CV 5/5] END ....C=10, gamma=0.001, kernel=rbf;, score=-0.076 total time=   1.2s\n",
      "[CV 1/5] END .........C=10, gamma=0.0, kernel=rbf;, score=nan total time=   0.0s\n",
      "[CV 2/5] END .........C=10, gamma=0.0, kernel=rbf;, score=nan total time=   0.0s\n",
      "[CV 3/5] END .........C=10, gamma=0.0, kernel=rbf;, score=nan total time=   0.0s\n",
      "[CV 4/5] END .........C=10, gamma=0.0, kernel=rbf;, score=nan total time=   0.0s\n",
      "[CV 5/5] END .........C=10, gamma=0.0, kernel=rbf;, score=nan total time=   0.0s\n",
      "[CV 1/5] END ........C=100, gamma=1, kernel=rbf;, score=0.002 total time=   1.2s\n"
     ]
    },
    {
     "name": "stdout",
     "output_type": "stream",
     "text": [
      "[CV 2/5] END ........C=100, gamma=1, kernel=rbf;, score=0.002 total time=   1.2s\n",
      "[CV 3/5] END ........C=100, gamma=1, kernel=rbf;, score=0.001 total time=   1.2s\n",
      "[CV 4/5] END ........C=100, gamma=1, kernel=rbf;, score=0.001 total time=   1.2s\n",
      "[CV 5/5] END .......C=100, gamma=1, kernel=rbf;, score=-0.006 total time=   1.2s\n",
      "[CV 1/5] END ......C=100, gamma=0.1, kernel=rbf;, score=0.002 total time=   1.2s\n",
      "[CV 2/5] END ......C=100, gamma=0.1, kernel=rbf;, score=0.005 total time=   1.2s\n",
      "[CV 3/5] END ......C=100, gamma=0.1, kernel=rbf;, score=0.004 total time=   1.1s\n",
      "[CV 4/5] END ......C=100, gamma=0.1, kernel=rbf;, score=0.003 total time=   1.2s\n",
      "[CV 5/5] END .....C=100, gamma=0.1, kernel=rbf;, score=-0.004 total time=   1.2s\n",
      "[CV 1/5] END .....C=100, gamma=0.01, kernel=rbf;, score=0.012 total time=   1.2s\n",
      "[CV 2/5] END ....C=100, gamma=0.01, kernel=rbf;, score=-0.002 total time=   1.5s\n",
      "[CV 3/5] END ....C=100, gamma=0.01, kernel=rbf;, score=-0.008 total time=   1.3s\n",
      "[CV 4/5] END .....C=100, gamma=0.01, kernel=rbf;, score=0.070 total time=   1.3s\n",
      "[CV 5/5] END .....C=100, gamma=0.01, kernel=rbf;, score=0.030 total time=   1.2s\n",
      "[CV 1/5] END ...C=100, gamma=0.001, kernel=rbf;, score=-0.098 total time=   1.4s\n",
      "[CV 2/5] END ...C=100, gamma=0.001, kernel=rbf;, score=-0.145 total time=   1.8s\n",
      "[CV 3/5] END ...C=100, gamma=0.001, kernel=rbf;, score=-0.305 total time=   1.7s\n",
      "[CV 4/5] END ...C=100, gamma=0.001, kernel=rbf;, score=-0.031 total time=   1.6s\n",
      "[CV 5/5] END ...C=100, gamma=0.001, kernel=rbf;, score=-0.129 total time=   1.6s\n",
      "[CV 1/5] END ........C=100, gamma=0.0, kernel=rbf;, score=nan total time=   0.0s\n",
      "[CV 2/5] END ........C=100, gamma=0.0, kernel=rbf;, score=nan total time=   0.0s\n",
      "[CV 3/5] END ........C=100, gamma=0.0, kernel=rbf;, score=nan total time=   0.0s\n",
      "[CV 4/5] END ........C=100, gamma=0.0, kernel=rbf;, score=nan total time=   0.0s\n",
      "[CV 5/5] END ........C=100, gamma=0.0, kernel=rbf;, score=nan total time=   0.0s\n",
      "[CV 1/5] END .......C=1000, gamma=1, kernel=rbf;, score=0.002 total time=   1.2s\n",
      "[CV 2/5] END .......C=1000, gamma=1, kernel=rbf;, score=0.002 total time=   1.3s\n",
      "[CV 3/5] END .......C=1000, gamma=1, kernel=rbf;, score=0.001 total time=   1.3s\n",
      "[CV 4/5] END .......C=1000, gamma=1, kernel=rbf;, score=0.001 total time=   1.3s\n",
      "[CV 5/5] END ......C=1000, gamma=1, kernel=rbf;, score=-0.006 total time=   1.2s\n",
      "[CV 1/5] END .....C=1000, gamma=0.1, kernel=rbf;, score=0.002 total time=   1.2s\n",
      "[CV 2/5] END .....C=1000, gamma=0.1, kernel=rbf;, score=0.005 total time=   1.3s\n",
      "[CV 3/5] END .....C=1000, gamma=0.1, kernel=rbf;, score=0.004 total time=   1.2s\n",
      "[CV 4/5] END .....C=1000, gamma=0.1, kernel=rbf;, score=0.003 total time=   1.2s\n",
      "[CV 5/5] END ....C=1000, gamma=0.1, kernel=rbf;, score=-0.004 total time=   1.1s\n",
      "[CV 1/5] END ....C=1000, gamma=0.01, kernel=rbf;, score=0.012 total time=   1.3s\n",
      "[CV 2/5] END ...C=1000, gamma=0.01, kernel=rbf;, score=-0.002 total time=   1.2s\n",
      "[CV 3/5] END ...C=1000, gamma=0.01, kernel=rbf;, score=-0.008 total time=   1.2s\n",
      "[CV 4/5] END ....C=1000, gamma=0.01, kernel=rbf;, score=0.070 total time=   1.2s\n",
      "[CV 5/5] END ....C=1000, gamma=0.01, kernel=rbf;, score=0.030 total time=   1.2s\n",
      "[CV 1/5] END ..C=1000, gamma=0.001, kernel=rbf;, score=-0.098 total time=   1.5s\n",
      "[CV 2/5] END ..C=1000, gamma=0.001, kernel=rbf;, score=-0.146 total time=   1.6s\n",
      "[CV 3/5] END ..C=1000, gamma=0.001, kernel=rbf;, score=-0.305 total time=   1.5s\n",
      "[CV 4/5] END ..C=1000, gamma=0.001, kernel=rbf;, score=-0.030 total time=   1.5s\n",
      "[CV 5/5] END ..C=1000, gamma=0.001, kernel=rbf;, score=-0.128 total time=   1.5s\n",
      "[CV 1/5] END .......C=1000, gamma=0.0, kernel=rbf;, score=nan total time=   0.0s\n",
      "[CV 2/5] END .......C=1000, gamma=0.0, kernel=rbf;, score=nan total time=   0.0s\n",
      "[CV 3/5] END .......C=1000, gamma=0.0, kernel=rbf;, score=nan total time=   0.0s\n",
      "[CV 4/5] END .......C=1000, gamma=0.0, kernel=rbf;, score=nan total time=   0.0s\n",
      "[CV 5/5] END .......C=1000, gamma=0.0, kernel=rbf;, score=nan total time=   0.0s\n"
     ]
    },
    {
     "name": "stderr",
     "output_type": "stream",
     "text": [
      "C:\\Users\\lalit\\AppData\\Roaming\\Python\\Python39\\site-packages\\sklearn\\model_selection\\_validation.py:378: FitFailedWarning: \n",
      "50 fits failed out of a total of 150.\n",
      "The score on these train-test partitions for these parameters will be set to nan.\n",
      "If these failures are not expected, you can try to debug them by setting error_score='raise'.\n",
      "\n",
      "Below are more details about the failures:\n",
      "--------------------------------------------------------------------------------\n",
      "20 fits failed with the following error:\n",
      "Traceback (most recent call last):\n",
      "  File \"C:\\Users\\lalit\\AppData\\Roaming\\Python\\Python39\\site-packages\\sklearn\\model_selection\\_validation.py\", line 686, in _fit_and_score\n",
      "    estimator.fit(X_train, y_train, **fit_params)\n",
      "  File \"C:\\Users\\lalit\\AppData\\Roaming\\Python\\Python39\\site-packages\\sklearn\\svm\\_base.py\", line 251, in fit\n",
      "    fit(X, y, sample_weight, solver_type, kernel, random_seed=seed)\n",
      "  File \"C:\\Users\\lalit\\AppData\\Roaming\\Python\\Python39\\site-packages\\sklearn\\svm\\_base.py\", line 333, in _dense_fit\n",
      "    ) = libsvm.fit(\n",
      "  File \"sklearn\\svm\\_libsvm.pyx\", line 192, in sklearn.svm._libsvm.fit\n",
      "ValueError: C <= 0\n",
      "\n",
      "--------------------------------------------------------------------------------\n",
      "30 fits failed with the following error:\n",
      "Traceback (most recent call last):\n",
      "  File \"C:\\Users\\lalit\\AppData\\Roaming\\Python\\Python39\\site-packages\\sklearn\\model_selection\\_validation.py\", line 686, in _fit_and_score\n",
      "    estimator.fit(X_train, y_train, **fit_params)\n",
      "  File \"C:\\Users\\lalit\\AppData\\Roaming\\Python\\Python39\\site-packages\\sklearn\\svm\\_base.py\", line 237, in fit\n",
      "    raise ValueError(msg)\n",
      "ValueError: gamma value must be > 0; 0.0 is invalid. Use a positive number or use 'auto' to set gamma to a value of 1 / n_features.\n",
      "\n",
      "  warnings.warn(some_fits_failed_message, FitFailedWarning)\n",
      "C:\\Users\\lalit\\AppData\\Roaming\\Python\\Python39\\site-packages\\sklearn\\model_selection\\_search.py:953: UserWarning: One or more of the test scores are non-finite: [            nan             nan             nan             nan\n",
      "             nan -3.52826584e-02 -3.47369086e-02 -3.41404399e-02\n",
      " -3.28463546e-02             nan -3.52826584e-02 -3.47369086e-02\n",
      " -3.41404399e-02 -3.28463546e-02             nan  6.72573864e-05\n",
      "  1.98190609e-03  2.02325579e-02 -1.10656794e-01             nan\n",
      "  6.72573864e-05  1.98190609e-03  2.02486114e-02 -1.41562545e-01\n",
      "             nan  6.72573864e-05  1.98190609e-03  2.02486114e-02\n",
      " -1.41675914e-01             nan]\n",
      "  warnings.warn(\n"
     ]
    },
    {
     "data": {
      "text/html": [
       "<style>#sk-container-id-2 {color: black;background-color: white;}#sk-container-id-2 pre{padding: 0;}#sk-container-id-2 div.sk-toggleable {background-color: white;}#sk-container-id-2 label.sk-toggleable__label {cursor: pointer;display: block;width: 100%;margin-bottom: 0;padding: 0.3em;box-sizing: border-box;text-align: center;}#sk-container-id-2 label.sk-toggleable__label-arrow:before {content: \"▸\";float: left;margin-right: 0.25em;color: #696969;}#sk-container-id-2 label.sk-toggleable__label-arrow:hover:before {color: black;}#sk-container-id-2 div.sk-estimator:hover label.sk-toggleable__label-arrow:before {color: black;}#sk-container-id-2 div.sk-toggleable__content {max-height: 0;max-width: 0;overflow: hidden;text-align: left;background-color: #f0f8ff;}#sk-container-id-2 div.sk-toggleable__content pre {margin: 0.2em;color: black;border-radius: 0.25em;background-color: #f0f8ff;}#sk-container-id-2 input.sk-toggleable__control:checked~div.sk-toggleable__content {max-height: 200px;max-width: 100%;overflow: auto;}#sk-container-id-2 input.sk-toggleable__control:checked~label.sk-toggleable__label-arrow:before {content: \"▾\";}#sk-container-id-2 div.sk-estimator input.sk-toggleable__control:checked~label.sk-toggleable__label {background-color: #d4ebff;}#sk-container-id-2 div.sk-label input.sk-toggleable__control:checked~label.sk-toggleable__label {background-color: #d4ebff;}#sk-container-id-2 input.sk-hidden--visually {border: 0;clip: rect(1px 1px 1px 1px);clip: rect(1px, 1px, 1px, 1px);height: 1px;margin: -1px;overflow: hidden;padding: 0;position: absolute;width: 1px;}#sk-container-id-2 div.sk-estimator {font-family: monospace;background-color: #f0f8ff;border: 1px dotted black;border-radius: 0.25em;box-sizing: border-box;margin-bottom: 0.5em;}#sk-container-id-2 div.sk-estimator:hover {background-color: #d4ebff;}#sk-container-id-2 div.sk-parallel-item::after {content: \"\";width: 100%;border-bottom: 1px solid gray;flex-grow: 1;}#sk-container-id-2 div.sk-label:hover label.sk-toggleable__label {background-color: #d4ebff;}#sk-container-id-2 div.sk-serial::before {content: \"\";position: absolute;border-left: 1px solid gray;box-sizing: border-box;top: 0;bottom: 0;left: 50%;z-index: 0;}#sk-container-id-2 div.sk-serial {display: flex;flex-direction: column;align-items: center;background-color: white;padding-right: 0.2em;padding-left: 0.2em;position: relative;}#sk-container-id-2 div.sk-item {position: relative;z-index: 1;}#sk-container-id-2 div.sk-parallel {display: flex;align-items: stretch;justify-content: center;background-color: white;position: relative;}#sk-container-id-2 div.sk-item::before, #sk-container-id-2 div.sk-parallel-item::before {content: \"\";position: absolute;border-left: 1px solid gray;box-sizing: border-box;top: 0;bottom: 0;left: 50%;z-index: -1;}#sk-container-id-2 div.sk-parallel-item {display: flex;flex-direction: column;z-index: 1;position: relative;background-color: white;}#sk-container-id-2 div.sk-parallel-item:first-child::after {align-self: flex-end;width: 50%;}#sk-container-id-2 div.sk-parallel-item:last-child::after {align-self: flex-start;width: 50%;}#sk-container-id-2 div.sk-parallel-item:only-child::after {width: 0;}#sk-container-id-2 div.sk-dashed-wrapped {border: 1px dashed gray;margin: 0 0.4em 0.5em 0.4em;box-sizing: border-box;padding-bottom: 0.4em;background-color: white;}#sk-container-id-2 div.sk-label label {font-family: monospace;font-weight: bold;display: inline-block;line-height: 1.2em;}#sk-container-id-2 div.sk-label-container {text-align: center;}#sk-container-id-2 div.sk-container {/* jupyter's `normalize.less` sets `[hidden] { display: none; }` but bootstrap.min.css set `[hidden] { display: none !important; }` so we also need the `!important` here to be able to override the default hidden behavior on the sphinx rendered scikit-learn.org. See: https://github.com/scikit-learn/scikit-learn/issues/21755 */display: inline-block !important;position: relative;}#sk-container-id-2 div.sk-text-repr-fallback {display: none;}</style><div id=\"sk-container-id-2\" class=\"sk-top-container\"><div class=\"sk-text-repr-fallback\"><pre>GridSearchCV(estimator=SVR(),\n",
       "             param_grid={&#x27;C&#x27;: [0, 1, 1, 10, 100, 1000],\n",
       "                         &#x27;gamma&#x27;: [1, 0.1, 0.01, 0.001, 0.0],\n",
       "                         &#x27;kernel&#x27;: [&#x27;rbf&#x27;]},\n",
       "             verbose=3)</pre><b>In a Jupyter environment, please rerun this cell to show the HTML representation or trust the notebook. <br />On GitHub, the HTML representation is unable to render, please try loading this page with nbviewer.org.</b></div><div class=\"sk-container\" hidden><div class=\"sk-item sk-dashed-wrapped\"><div class=\"sk-label-container\"><div class=\"sk-label sk-toggleable\"><input class=\"sk-toggleable__control sk-hidden--visually\" id=\"sk-estimator-id-2\" type=\"checkbox\" ><label for=\"sk-estimator-id-2\" class=\"sk-toggleable__label sk-toggleable__label-arrow\">GridSearchCV</label><div class=\"sk-toggleable__content\"><pre>GridSearchCV(estimator=SVR(),\n",
       "             param_grid={&#x27;C&#x27;: [0, 1, 1, 10, 100, 1000],\n",
       "                         &#x27;gamma&#x27;: [1, 0.1, 0.01, 0.001, 0.0],\n",
       "                         &#x27;kernel&#x27;: [&#x27;rbf&#x27;]},\n",
       "             verbose=3)</pre></div></div></div><div class=\"sk-parallel\"><div class=\"sk-parallel-item\"><div class=\"sk-item\"><div class=\"sk-label-container\"><div class=\"sk-label sk-toggleable\"><input class=\"sk-toggleable__control sk-hidden--visually\" id=\"sk-estimator-id-3\" type=\"checkbox\" ><label for=\"sk-estimator-id-3\" class=\"sk-toggleable__label sk-toggleable__label-arrow\">estimator: SVR</label><div class=\"sk-toggleable__content\"><pre>SVR()</pre></div></div></div><div class=\"sk-serial\"><div class=\"sk-item\"><div class=\"sk-estimator sk-toggleable\"><input class=\"sk-toggleable__control sk-hidden--visually\" id=\"sk-estimator-id-4\" type=\"checkbox\" ><label for=\"sk-estimator-id-4\" class=\"sk-toggleable__label sk-toggleable__label-arrow\">SVR</label><div class=\"sk-toggleable__content\"><pre>SVR()</pre></div></div></div></div></div></div></div></div></div></div>"
      ],
      "text/plain": [
       "GridSearchCV(estimator=SVR(),\n",
       "             param_grid={'C': [0, 1, 1, 10, 100, 1000],\n",
       "                         'gamma': [1, 0.1, 0.01, 0.001, 0.0],\n",
       "                         'kernel': ['rbf']},\n",
       "             verbose=3)"
      ]
     },
     "execution_count": 36,
     "metadata": {},
     "output_type": "execute_result"
    }
   ],
   "source": [
    "from sklearn.svm import SVR\n",
    "from sklearn.model_selection import GridSearchCV\n",
    "\n",
    "svr=SVR()\n",
    "\n",
    "param_grid={'C':[0,1,1,10,100,1000],\n",
    "           'gamma':[1,0.1,0.01,0.001,0.000,],\n",
    "           'kernel':['rbf']}\n",
    "\n",
    "grid=GridSearchCV(SVR(),param_grid,refit=True,verbose=3)\n",
    "\n",
    "grid.fit(X_train,y_train)"
   ]
  },
  {
   "cell_type": "code",
   "execution_count": 37,
   "id": "be1e048a",
   "metadata": {},
   "outputs": [
    {
     "data": {
      "text/html": [
       "<style>#sk-container-id-3 {color: black;background-color: white;}#sk-container-id-3 pre{padding: 0;}#sk-container-id-3 div.sk-toggleable {background-color: white;}#sk-container-id-3 label.sk-toggleable__label {cursor: pointer;display: block;width: 100%;margin-bottom: 0;padding: 0.3em;box-sizing: border-box;text-align: center;}#sk-container-id-3 label.sk-toggleable__label-arrow:before {content: \"▸\";float: left;margin-right: 0.25em;color: #696969;}#sk-container-id-3 label.sk-toggleable__label-arrow:hover:before {color: black;}#sk-container-id-3 div.sk-estimator:hover label.sk-toggleable__label-arrow:before {color: black;}#sk-container-id-3 div.sk-toggleable__content {max-height: 0;max-width: 0;overflow: hidden;text-align: left;background-color: #f0f8ff;}#sk-container-id-3 div.sk-toggleable__content pre {margin: 0.2em;color: black;border-radius: 0.25em;background-color: #f0f8ff;}#sk-container-id-3 input.sk-toggleable__control:checked~div.sk-toggleable__content {max-height: 200px;max-width: 100%;overflow: auto;}#sk-container-id-3 input.sk-toggleable__control:checked~label.sk-toggleable__label-arrow:before {content: \"▾\";}#sk-container-id-3 div.sk-estimator input.sk-toggleable__control:checked~label.sk-toggleable__label {background-color: #d4ebff;}#sk-container-id-3 div.sk-label input.sk-toggleable__control:checked~label.sk-toggleable__label {background-color: #d4ebff;}#sk-container-id-3 input.sk-hidden--visually {border: 0;clip: rect(1px 1px 1px 1px);clip: rect(1px, 1px, 1px, 1px);height: 1px;margin: -1px;overflow: hidden;padding: 0;position: absolute;width: 1px;}#sk-container-id-3 div.sk-estimator {font-family: monospace;background-color: #f0f8ff;border: 1px dotted black;border-radius: 0.25em;box-sizing: border-box;margin-bottom: 0.5em;}#sk-container-id-3 div.sk-estimator:hover {background-color: #d4ebff;}#sk-container-id-3 div.sk-parallel-item::after {content: \"\";width: 100%;border-bottom: 1px solid gray;flex-grow: 1;}#sk-container-id-3 div.sk-label:hover label.sk-toggleable__label {background-color: #d4ebff;}#sk-container-id-3 div.sk-serial::before {content: \"\";position: absolute;border-left: 1px solid gray;box-sizing: border-box;top: 0;bottom: 0;left: 50%;z-index: 0;}#sk-container-id-3 div.sk-serial {display: flex;flex-direction: column;align-items: center;background-color: white;padding-right: 0.2em;padding-left: 0.2em;position: relative;}#sk-container-id-3 div.sk-item {position: relative;z-index: 1;}#sk-container-id-3 div.sk-parallel {display: flex;align-items: stretch;justify-content: center;background-color: white;position: relative;}#sk-container-id-3 div.sk-item::before, #sk-container-id-3 div.sk-parallel-item::before {content: \"\";position: absolute;border-left: 1px solid gray;box-sizing: border-box;top: 0;bottom: 0;left: 50%;z-index: -1;}#sk-container-id-3 div.sk-parallel-item {display: flex;flex-direction: column;z-index: 1;position: relative;background-color: white;}#sk-container-id-3 div.sk-parallel-item:first-child::after {align-self: flex-end;width: 50%;}#sk-container-id-3 div.sk-parallel-item:last-child::after {align-self: flex-start;width: 50%;}#sk-container-id-3 div.sk-parallel-item:only-child::after {width: 0;}#sk-container-id-3 div.sk-dashed-wrapped {border: 1px dashed gray;margin: 0 0.4em 0.5em 0.4em;box-sizing: border-box;padding-bottom: 0.4em;background-color: white;}#sk-container-id-3 div.sk-label label {font-family: monospace;font-weight: bold;display: inline-block;line-height: 1.2em;}#sk-container-id-3 div.sk-label-container {text-align: center;}#sk-container-id-3 div.sk-container {/* jupyter's `normalize.less` sets `[hidden] { display: none; }` but bootstrap.min.css set `[hidden] { display: none !important; }` so we also need the `!important` here to be able to override the default hidden behavior on the sphinx rendered scikit-learn.org. See: https://github.com/scikit-learn/scikit-learn/issues/21755 */display: inline-block !important;position: relative;}#sk-container-id-3 div.sk-text-repr-fallback {display: none;}</style><div id=\"sk-container-id-3\" class=\"sk-top-container\"><div class=\"sk-text-repr-fallback\"><pre>SVR(C=100, gamma=0.01)</pre><b>In a Jupyter environment, please rerun this cell to show the HTML representation or trust the notebook. <br />On GitHub, the HTML representation is unable to render, please try loading this page with nbviewer.org.</b></div><div class=\"sk-container\" hidden><div class=\"sk-item\"><div class=\"sk-estimator sk-toggleable\"><input class=\"sk-toggleable__control sk-hidden--visually\" id=\"sk-estimator-id-5\" type=\"checkbox\" checked><label for=\"sk-estimator-id-5\" class=\"sk-toggleable__label sk-toggleable__label-arrow\">SVR</label><div class=\"sk-toggleable__content\"><pre>SVR(C=100, gamma=0.01)</pre></div></div></div></div></div>"
      ],
      "text/plain": [
       "SVR(C=100, gamma=0.01)"
      ]
     },
     "execution_count": 37,
     "metadata": {},
     "output_type": "execute_result"
    }
   ],
   "source": [
    "grid.best_estimator_"
   ]
  },
  {
   "cell_type": "code",
   "execution_count": 38,
   "id": "cf8a68f8",
   "metadata": {},
   "outputs": [],
   "source": [
    "svr=SVR(C=10,gamma=0.01,kernel='rbf')\n",
    "svr.fit(X_train,y_train)\n",
    "svr_pred=svr.predict(X_test)"
   ]
  },
  {
   "cell_type": "code",
   "execution_count": 40,
   "id": "6ddd5a8f",
   "metadata": {},
   "outputs": [
    {
     "name": "stdout",
     "output_type": "stream",
     "text": [
      "MSE:-  2.708318452474205\n",
      "RMSE:-  1.6456969503751913\n",
      "R2_Score:-  0.00872232580075838\n"
     ]
    }
   ],
   "source": [
    "calculate_metrics(y_test,svr_pred)"
   ]
  },
  {
   "cell_type": "code",
   "execution_count": 43,
   "id": "e6933254",
   "metadata": {},
   "outputs": [],
   "source": [
    "import joblib\n",
    "\n",
    "joblib.dump(ri,'model.pkl')\n",
    "\n",
    "ridge_from_joblib=model=joblib.load('model.pkl')"
   ]
  },
  {
   "cell_type": "code",
   "execution_count": null,
   "id": "b7820b87",
   "metadata": {},
   "outputs": [],
   "source": []
  }
 ],
 "metadata": {
  "kernelspec": {
   "display_name": "Python 3 (ipykernel)",
   "language": "python",
   "name": "python3"
  },
  "language_info": {
   "codemirror_mode": {
    "name": "ipython",
    "version": 3
   },
   "file_extension": ".py",
   "mimetype": "text/x-python",
   "name": "python",
   "nbconvert_exporter": "python",
   "pygments_lexer": "ipython3",
   "version": "3.9.12"
  }
 },
 "nbformat": 4,
 "nbformat_minor": 5
}
